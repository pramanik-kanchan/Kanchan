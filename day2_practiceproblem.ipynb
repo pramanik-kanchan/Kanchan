{
  "nbformat": 4,
  "nbformat_minor": 0,
  "metadata": {
    "colab": {
      "provenance": [],
      "authorship_tag": "ABX9TyMEAyrMWpKs6+4xP3MUA1kX",
      "include_colab_link": true
    },
    "kernelspec": {
      "name": "python3",
      "display_name": "Python 3"
    },
    "language_info": {
      "name": "python"
    }
  },
  "cells": [
    {
      "cell_type": "markdown",
      "metadata": {
        "id": "view-in-github",
        "colab_type": "text"
      },
      "source": [
        "<a href=\"https://colab.research.google.com/github/pramanik-kanchan/Kanchan/blob/main/day2_practiceproblem.ipynb\" target=\"_parent\"><img src=\"https://colab.research.google.com/assets/colab-badge.svg\" alt=\"Open In Colab\"/></a>"
      ]
    },
    {
      "cell_type": "code",
      "source": [
        "print(\"Hello World\")"
      ],
      "metadata": {
        "colab": {
          "base_uri": "https://localhost:8080/"
        },
        "id": "1C_Ahm2RySzQ",
        "outputId": "e0aef5e1-f8e0-481a-a10c-1b4821528940"
      },
      "execution_count": 3,
      "outputs": [
        {
          "output_type": "stream",
          "name": "stdout",
          "text": [
            "Hello World\n"
          ]
        }
      ]
    },
    {
      "cell_type": "code",
      "source": [
        "x=int(input(\"Enter 1st number\"))\n",
        "y=int(input(\"Enter 2nd number\"))\n",
        "print(x+y)"
      ],
      "metadata": {
        "colab": {
          "base_uri": "https://localhost:8080/"
        },
        "id": "tv7tNYzxyVwn",
        "outputId": "4e4fa4f2-da5d-4d8d-aab6-28f3ccaf579b"
      },
      "execution_count": 4,
      "outputs": [
        {
          "output_type": "stream",
          "name": "stdout",
          "text": [
            "Enter 1st number5\n",
            "Enter 2nd number5\n",
            "10\n"
          ]
        }
      ]
    },
    {
      "cell_type": "code",
      "source": [
        "b=int(input(\"Enter base\"))\n",
        "h=int(input(\"Enter height\"))\n",
        "a=0.5*b*h\n",
        "print(a)"
      ],
      "metadata": {
        "colab": {
          "base_uri": "https://localhost:8080/"
        },
        "id": "jKpUw5ASy_N_",
        "outputId": "2bddba12-0c42-40c9-e252-55db4f45236a"
      },
      "execution_count": 5,
      "outputs": [
        {
          "output_type": "stream",
          "name": "stdout",
          "text": [
            "Enter base5\n",
            "Enter height10\n",
            "25.0\n"
          ]
        }
      ]
    },
    {
      "cell_type": "code",
      "source": [
        "a=10\n",
        "b=20\n",
        "temp=a\n",
        "a=b\n",
        "b=temp\n",
        "print(\"After swapping\")\n",
        "print(\"a:\",a)\n",
        "print(\"b:\",b)"
      ],
      "metadata": {
        "colab": {
          "base_uri": "https://localhost:8080/"
        },
        "id": "-BbvM5oP0DUp",
        "outputId": "d8e0af15-b75f-48d2-bb95-c65efad9164b"
      },
      "execution_count": 8,
      "outputs": [
        {
          "output_type": "stream",
          "name": "stdout",
          "text": [
            "After swapping\n",
            "a: 20\n",
            "b: 10\n"
          ]
        }
      ]
    },
    {
      "cell_type": "code",
      "source": [
        "x=int(input(\"Enter a number\"))\n",
        "if(x%2==0):\n",
        "  print(\"It is an even number\")\n",
        "else:\n",
        "  print(\"It is odd number\")\n",
        "\n",
        "\n",
        "\n"
      ],
      "metadata": {
        "colab": {
          "base_uri": "https://localhost:8080/"
        },
        "id": "RWl6NI3c2U2f",
        "outputId": "4ed46e8d-ccca-4e32-cc9b-2167ab728cb6"
      },
      "execution_count": 10,
      "outputs": [
        {
          "output_type": "stream",
          "name": "stdout",
          "text": [
            "Enter a number4\n",
            "It is an even number\n"
          ]
        }
      ]
    },
    {
      "cell_type": "code",
      "source": [
        "x=int(input(\"Enter a number\"))\n",
        "if(x>0):\n",
        "  print(\"It is a possitive number\")\n",
        "elif(x<0):\n",
        "  print(\"It is a negative number\")\n",
        "else:\n",
        "  print(\"zero\")\n"
      ],
      "metadata": {
        "colab": {
          "base_uri": "https://localhost:8080/"
        },
        "id": "s1RGCHfT3iv9",
        "outputId": "2f604ec2-5474-4800-b852-437b2e85f6fb"
      },
      "execution_count": 12,
      "outputs": [
        {
          "output_type": "stream",
          "name": "stdout",
          "text": [
            "Enter a number-2\n",
            "It is a negative number\n"
          ]
        }
      ]
    },
    {
      "cell_type": "code",
      "source": [
        "x=int(input(\"Enter 1st number\"))\n",
        "y=int(input(\"Enter 2nd number\"))\n",
        "z=int(input(\"Enter 3rd number\"))\n",
        "if(x>y and x>z):\n",
        "  print(\"x is the largest number\")\n",
        "elif(y>x and y>z):\n",
        "  print(\"y is the largest number\")\n",
        "else:\n",
        "  print(\"z is the largest number\")\n"
      ],
      "metadata": {
        "colab": {
          "base_uri": "https://localhost:8080/"
        },
        "id": "UzjQQPaW3ZsR",
        "outputId": "2feb42b3-bb6a-4987-b3c5-a54c3a9636f3"
      },
      "execution_count": 13,
      "outputs": [
        {
          "output_type": "stream",
          "name": "stdout",
          "text": [
            "Enter 1st number20\n",
            "Enter 2nd number80\n",
            "Enter 3rd number10\n",
            "y is the largest number\n"
          ]
        }
      ]
    },
    {
      "cell_type": "code",
      "source": [
        "import math\n",
        "x=int(input(\"Enter number\"))\n",
        "sqare_root=(math.sqrt(x))\n",
        "print(\"Square root of x is\",sqare_root)"
      ],
      "metadata": {
        "colab": {
          "base_uri": "https://localhost:8080/"
        },
        "id": "uUng2a8S5iI1",
        "outputId": "36de4f45-c1d3-45d5-e8d0-0f75e779f787"
      },
      "execution_count": 18,
      "outputs": [
        {
          "output_type": "stream",
          "name": "stdout",
          "text": [
            "Enter number256\n",
            "Square root of x is 16.0\n"
          ]
        }
      ]
    },
    {
      "cell_type": "code",
      "source": [],
      "metadata": {
        "id": "RQHlqbgP7dnN"
      },
      "execution_count": null,
      "outputs": []
    }
  ]
}